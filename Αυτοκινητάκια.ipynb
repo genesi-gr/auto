{
 "cells": [
  {
   "cell_type": "code",
   "execution_count": 1,
   "metadata": {
    "collapsed": false
   },
   "outputs": [],
   "source": [
    "### Testing of websocket_messaging\n",
    "# import websocket_messaging as wm\n",
    "# from importlib import reload\n",
    "# reload(wm)"
   ]
  },
  {
   "cell_type": "code",
   "execution_count": 2,
   "metadata": {
    "collapsed": false
   },
   "outputs": [],
   "source": [
    "from genesi_msg import car \n",
    "import time\n",
    "\n",
    "# Ονόμασε το αυτοκίνητό σου\n",
    "ferrari = car( 1 ) \n",
    "\n",
    "# Δώσε τις εντολές\n",
    "ferrari.nxo()\n",
    "ferrari.diakopn()"
   ]
  }
 ],
 "metadata": {
  "kernelspec": {
   "display_name": "Python 3",
   "language": "python",
   "name": "python3"
  },
  "language_info": {
   "codemirror_mode": {
    "name": "ipython",
    "version": 3
   },
   "file_extension": ".py",
   "mimetype": "text/x-python",
   "name": "python",
   "nbconvert_exporter": "python",
   "pygments_lexer": "ipython3",
   "version": "3.5.2"
  }
 },
 "nbformat": 4,
 "nbformat_minor": 1
}
